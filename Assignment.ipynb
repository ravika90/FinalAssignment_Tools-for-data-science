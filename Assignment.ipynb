{
  "metadata": {
    "kernelspec": {
      "name": "python",
      "display_name": "Python (Pyodide)",
      "language": "python"
    },
    "language_info": {
      "codemirror_mode": {
        "name": "python",
        "version": 3
      },
      "file_extension": ".py",
      "mimetype": "text/x-python",
      "name": "python",
      "nbconvert_exporter": "python",
      "pygments_lexer": "ipython3",
      "version": "3.8"
    }
  },
  "nbformat_minor": 4,
  "nbformat": 4,
  "cells": [
    {
      "cell_type": "code",
      "source": "",
      "metadata": {
        "trusted": true
      },
      "outputs": [],
      "execution_count": null
    },
    {
      "cell_type": "markdown",
      "source": "# Title - Tools for data science assignment",
      "metadata": {}
    },
    {
      "cell_type": "code",
      "source": "",
      "metadata": {
        "trusted": true
      },
      "outputs": [],
      "execution_count": null
    },
    {
      "cell_type": "markdown",
      "source": "## Introduction\n\nThis notebook provides answers to the exercsises and covers essential topic covered in the course.",
      "metadata": {}
    },
    {
      "cell_type": "code",
      "source": "",
      "metadata": {
        "trusted": true
      },
      "outputs": [],
      "execution_count": null
    },
    {
      "cell_type": "markdown",
      "source": "## List of data science language\n\n- Python\n- SQL\n- R\n- Julia\n- Scala\n- C++\n- Java",
      "metadata": {}
    },
    {
      "cell_type": "markdown",
      "source": "## List of data science Libraries\n\n- NumPy\n- TensorFlow\n- Scikit-learn\n- Matplotlib\n- Pandas",
      "metadata": {}
    },
    {
      "cell_type": "markdown",
      "source": "## List of data science tools\n\n|Tool | Description |\n|----- |-------------|\n| MySQL| Data management | \n| PostgreSQL | Data management | \n| MongoDB | Data management |  \n| Apache CouchDB| Data management |  \n| Apache Cassandra  | Data management |  \n| Hadoop File system | Data management |  \n| Ceph| Data management |  \n| Elastic search | Data management | \n| Apache AirFlow| Data integration | \n| KubeFlow | Data integration | \n| Apache Kafka| Data integration | \n| Apache Nifi | Data integration | \n| Apache SparkSQL| Data integration |\n| NodeRED| Data integration |\n| Pixie Dust | Data Visualization |\n| Kibana | Data Visualization | \n| Hue| Data Visualization | \n| Apache Superset| Data Visualization | \n| Apache PredictionIO | Model deployment |  \n| Seldon | Model deployment |  \n| Kubernetes | Model deployment |  \n| Redhat OpenShift | Model deployment |   \n| Mleap | Model deployment |  \n| TensorFlow service | Model deployment |  \n| TensorFlow lite | Model deployment |  \n| TensorFlow dot JS | Model deployment |  \n| ModelDB | Model montitoring |  \n| Prometheus | Model montitoring |  \n| IBM AI Fairness 360 | Model montitoring |  \n| IBM Adversarial Robustness 360 Toolbox | Model montitoring |  \n| IBM AI Explainability 360 | Model montitoring |  \n| Prometheus | Model montitoring |  \n\n\n\n\n",
      "metadata": {}
    },
    {
      "cell_type": "markdown",
      "source": "## Aritmetic expression - example\n\nBelow you will find of basic artthmetic operation",
      "metadata": {}
    },
    {
      "cell_type": "code",
      "source": "# Multiplication and addition\nx = 4\ny = 5\nmultiplication = x * y\naddition = x + y\nmultiplication, addition",
      "metadata": {
        "trusted": true
      },
      "outputs": [
        {
          "execution_count": 4,
          "output_type": "execute_result",
          "data": {
            "text/plain": "(20, 9)"
          },
          "metadata": {}
        }
      ],
      "execution_count": 4
    },
    {
      "cell_type": "code",
      "source": "# Conversion of minutes into hours\nminutes = 150\nhours = minutes / 60\nhours",
      "metadata": {
        "trusted": true
      },
      "outputs": [
        {
          "execution_count": 6,
          "output_type": "execute_result",
          "data": {
            "text/plain": "2.5"
          },
          "metadata": {}
        }
      ],
      "execution_count": 6
    },
    {
      "cell_type": "markdown",
      "source": "## Objectives\n\n- Create a notebook\n- Explore and learn data sciencel languages\n- Explore and learn data science tools\n- Write code to perform basic arithmetic operation",
      "metadata": {}
    },
    {
      "cell_type": "markdown",
      "source": "## Author\n\nRavi Kalaiarasan",
      "metadata": {}
    },
    {
      "cell_type": "code",
      "source": "",
      "metadata": {
        "trusted": true
      },
      "outputs": [],
      "execution_count": null
    }
  ]
}